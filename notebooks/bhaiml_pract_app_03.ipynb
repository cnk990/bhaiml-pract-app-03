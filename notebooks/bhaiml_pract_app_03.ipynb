{
  "cells": [
    {
      "cell_type": "markdown",
      "metadata": {
        "id": "LefjNnolXW8l"
      },
      "source": [
        "# Practical Application III: Comparing Classifiers\n",
        "\n",
        "**Overview**: In this practical application, your goal is to compare the performance of the classifiers we encountered in this section, namely K Nearest Neighbor, Logistic Regression, Decision Trees, and Support Vector Machines.  We will utilize a dataset related to marketing bank products over the telephone.  \n",
        "\n"
      ]
    },
    {
      "cell_type": "markdown",
      "metadata": {
        "id": "M_SFEBIxXW8m"
      },
      "source": [
        "### Getting Started\n",
        "\n",
        "Our dataset comes from the UCI Machine Learning repository [link](https://archive.ics.uci.edu/ml/datasets/bank+marketing).  The data is from a Portugese banking institution and is a collection of the results of multiple marketing campaigns.  We will make use of the article accompanying the dataset [here](CRISP-DM-BANK.pdf) for more information on the data and features.\n",
        "\n"
      ]
    },
    {
      "cell_type": "markdown",
      "metadata": {
        "id": "tADBuiw9XW8m"
      },
      "source": [
        "### Problem 1: Understanding the Data\n",
        "\n",
        "To gain a better understanding of the data, please read the information provided in the UCI link above, and examine the **Materials and Methods** section of the paper.  How many marketing campaigns does this data represent?"
      ]
    },
    {
      "cell_type": "markdown",
      "source": [
        "- The bank marketing dataset used in this assignment represents data collection friom **17 direct marketing campaigns** conducted by a Portugese Bank.\n",
        "\n",
        "\n",
        "**Understanding of the data, from information in the provided UCI link above:**\n",
        "\n",
        "- The dataset contains marketing campaign data from Portugese banking institution.\n",
        "- If focuses on direct phone call based marketing campaigns, aimed at selling 'term deposit products' to clients.\n",
        "\n",
        "- The data represents 17 marketing campaigns conducted between May 2008 and November 2010, totaling 79,354 contacts with clients.\n",
        "Source: (CRISP-DM paper)\n",
        "- Each row represents a single contact with a client during a marketing campaign, containing information about the client, the call and the outcome.\n",
        "  - Outcome: whether they subscribed to a term deposit or not.\n",
        "\n",
        "**Types of Variables in the dataset:**\n",
        "- Client Information:\n",
        "  - `age`\n",
        "  - `job`\n",
        "  - `marital`\n",
        "  - `education`\n",
        "  - `default`\n",
        "  - `housing`\n",
        "  - `loan`\n",
        "\n",
        "- Campaign Information:\n",
        "  - `contact`\n",
        "  - `month`\n",
        "  - `day_of_week`\n",
        "  - `duration`\n",
        "\n",
        "- Campaign Performance:\n",
        "  - `pdays`\n",
        "  - `previous`\n",
        "  - `poutcome`\n",
        "\n",
        "- Target Variable:\n",
        "  - `y` | binary: 'yes' if the client subscribed, 'no' otherwise.\n",
        "\n",
        "\n",
        "**Size and Structure:**\n",
        "- `bank-additional-full.csv` has 41,188 rows, including both categorical and numerical variables.\n",
        "\n",
        "\n",
        "**Target Variable:**\n",
        "- Target variable is `y` which indicates whether the client subscribed to a term deposit (binary classification: `yes` or `no`).\n",
        "\n",
        "**Key Observations from the CRISP-DM Paper:**\n",
        "- Many categorical features such as `job`, `education` need encoding.\n",
        "- `duration` is highly predicted but only known after the call.\n",
        "  - It should be used carefully in predictive modeling if realisn is important.\n"
      ],
      "metadata": {
        "id": "GRTTrQ7BiPaF"
      }
    },
    {
      "cell_type": "markdown",
      "metadata": {
        "id": "lpBl6kNjXW8n"
      },
      "source": [
        "### Problem 2: Read in the Data\n",
        "\n",
        "Use pandas to read in the dataset `bank-additional-full.csv` and assign to a meaningful variable name."
      ]
    },
    {
      "cell_type": "code",
      "execution_count": 2,
      "metadata": {
        "id": "ftUclG_GXW8n"
      },
      "outputs": [],
      "source": [
        "import pandas as pd"
      ]
    },
    {
      "cell_type": "code",
      "execution_count": 3,
      "metadata": {
        "id": "9SDOiXgvXW8n"
      },
      "outputs": [],
      "source": [
        "df = pd.read_csv('../data/bank-additional-full.csv', sep = ';')"
      ]
    },
    {
      "cell_type": "code",
      "source": [
        "df.info()"
      ],
      "metadata": {
        "colab": {
          "base_uri": "https://localhost:8080/"
        },
        "id": "yIrQYnsEk62u",
        "outputId": "4f47ba47-f3eb-4917-8a69-e1f4dbd4e61b"
      },
      "execution_count": 4,
      "outputs": [
        {
          "output_type": "stream",
          "name": "stdout",
          "text": [
            "<class 'pandas.core.frame.DataFrame'>\n",
            "RangeIndex: 41188 entries, 0 to 41187\n",
            "Data columns (total 21 columns):\n",
            " #   Column          Non-Null Count  Dtype  \n",
            "---  ------          --------------  -----  \n",
            " 0   age             41188 non-null  int64  \n",
            " 1   job             41188 non-null  object \n",
            " 2   marital         41188 non-null  object \n",
            " 3   education       41188 non-null  object \n",
            " 4   default         41188 non-null  object \n",
            " 5   housing         41188 non-null  object \n",
            " 6   loan            41188 non-null  object \n",
            " 7   contact         41188 non-null  object \n",
            " 8   month           41188 non-null  object \n",
            " 9   day_of_week     41188 non-null  object \n",
            " 10  duration        41188 non-null  int64  \n",
            " 11  campaign        41188 non-null  int64  \n",
            " 12  pdays           41188 non-null  int64  \n",
            " 13  previous        41188 non-null  int64  \n",
            " 14  poutcome        41188 non-null  object \n",
            " 15  emp.var.rate    41188 non-null  float64\n",
            " 16  cons.price.idx  41188 non-null  float64\n",
            " 17  cons.conf.idx   41188 non-null  float64\n",
            " 18  euribor3m       41188 non-null  float64\n",
            " 19  nr.employed     41188 non-null  float64\n",
            " 20  y               41188 non-null  object \n",
            "dtypes: float64(5), int64(5), object(11)\n",
            "memory usage: 6.6+ MB\n"
          ]
        }
      ]
    },
    {
      "cell_type": "code",
      "execution_count": 5,
      "metadata": {
        "colab": {
          "base_uri": "https://localhost:8080/",
          "height": 256
        },
        "id": "C5xTr_6FXW8n",
        "outputId": "b28206fd-4e82-43cd-a286-36cec69dfd62"
      },
      "outputs": [
        {
          "output_type": "execute_result",
          "data": {
            "text/plain": [
              "   age        job  marital    education  default housing loan    contact  \\\n",
              "0   56  housemaid  married     basic.4y       no      no   no  telephone   \n",
              "1   57   services  married  high.school  unknown      no   no  telephone   \n",
              "2   37   services  married  high.school       no     yes   no  telephone   \n",
              "3   40     admin.  married     basic.6y       no      no   no  telephone   \n",
              "4   56   services  married  high.school       no      no  yes  telephone   \n",
              "\n",
              "  month day_of_week  ...  campaign  pdays  previous     poutcome emp.var.rate  \\\n",
              "0   may         mon  ...         1    999         0  nonexistent          1.1   \n",
              "1   may         mon  ...         1    999         0  nonexistent          1.1   \n",
              "2   may         mon  ...         1    999         0  nonexistent          1.1   \n",
              "3   may         mon  ...         1    999         0  nonexistent          1.1   \n",
              "4   may         mon  ...         1    999         0  nonexistent          1.1   \n",
              "\n",
              "   cons.price.idx  cons.conf.idx  euribor3m  nr.employed   y  \n",
              "0          93.994          -36.4      4.857       5191.0  no  \n",
              "1          93.994          -36.4      4.857       5191.0  no  \n",
              "2          93.994          -36.4      4.857       5191.0  no  \n",
              "3          93.994          -36.4      4.857       5191.0  no  \n",
              "4          93.994          -36.4      4.857       5191.0  no  \n",
              "\n",
              "[5 rows x 21 columns]"
            ],
            "text/html": [
              "\n",
              "  <div id=\"df-b3b715eb-392f-48f2-848e-cf4425e00cb5\" class=\"colab-df-container\">\n",
              "    <div>\n",
              "<style scoped>\n",
              "    .dataframe tbody tr th:only-of-type {\n",
              "        vertical-align: middle;\n",
              "    }\n",
              "\n",
              "    .dataframe tbody tr th {\n",
              "        vertical-align: top;\n",
              "    }\n",
              "\n",
              "    .dataframe thead th {\n",
              "        text-align: right;\n",
              "    }\n",
              "</style>\n",
              "<table border=\"1\" class=\"dataframe\">\n",
              "  <thead>\n",
              "    <tr style=\"text-align: right;\">\n",
              "      <th></th>\n",
              "      <th>age</th>\n",
              "      <th>job</th>\n",
              "      <th>marital</th>\n",
              "      <th>education</th>\n",
              "      <th>default</th>\n",
              "      <th>housing</th>\n",
              "      <th>loan</th>\n",
              "      <th>contact</th>\n",
              "      <th>month</th>\n",
              "      <th>day_of_week</th>\n",
              "      <th>...</th>\n",
              "      <th>campaign</th>\n",
              "      <th>pdays</th>\n",
              "      <th>previous</th>\n",
              "      <th>poutcome</th>\n",
              "      <th>emp.var.rate</th>\n",
              "      <th>cons.price.idx</th>\n",
              "      <th>cons.conf.idx</th>\n",
              "      <th>euribor3m</th>\n",
              "      <th>nr.employed</th>\n",
              "      <th>y</th>\n",
              "    </tr>\n",
              "  </thead>\n",
              "  <tbody>\n",
              "    <tr>\n",
              "      <th>0</th>\n",
              "      <td>56</td>\n",
              "      <td>housemaid</td>\n",
              "      <td>married</td>\n",
              "      <td>basic.4y</td>\n",
              "      <td>no</td>\n",
              "      <td>no</td>\n",
              "      <td>no</td>\n",
              "      <td>telephone</td>\n",
              "      <td>may</td>\n",
              "      <td>mon</td>\n",
              "      <td>...</td>\n",
              "      <td>1</td>\n",
              "      <td>999</td>\n",
              "      <td>0</td>\n",
              "      <td>nonexistent</td>\n",
              "      <td>1.1</td>\n",
              "      <td>93.994</td>\n",
              "      <td>-36.4</td>\n",
              "      <td>4.857</td>\n",
              "      <td>5191.0</td>\n",
              "      <td>no</td>\n",
              "    </tr>\n",
              "    <tr>\n",
              "      <th>1</th>\n",
              "      <td>57</td>\n",
              "      <td>services</td>\n",
              "      <td>married</td>\n",
              "      <td>high.school</td>\n",
              "      <td>unknown</td>\n",
              "      <td>no</td>\n",
              "      <td>no</td>\n",
              "      <td>telephone</td>\n",
              "      <td>may</td>\n",
              "      <td>mon</td>\n",
              "      <td>...</td>\n",
              "      <td>1</td>\n",
              "      <td>999</td>\n",
              "      <td>0</td>\n",
              "      <td>nonexistent</td>\n",
              "      <td>1.1</td>\n",
              "      <td>93.994</td>\n",
              "      <td>-36.4</td>\n",
              "      <td>4.857</td>\n",
              "      <td>5191.0</td>\n",
              "      <td>no</td>\n",
              "    </tr>\n",
              "    <tr>\n",
              "      <th>2</th>\n",
              "      <td>37</td>\n",
              "      <td>services</td>\n",
              "      <td>married</td>\n",
              "      <td>high.school</td>\n",
              "      <td>no</td>\n",
              "      <td>yes</td>\n",
              "      <td>no</td>\n",
              "      <td>telephone</td>\n",
              "      <td>may</td>\n",
              "      <td>mon</td>\n",
              "      <td>...</td>\n",
              "      <td>1</td>\n",
              "      <td>999</td>\n",
              "      <td>0</td>\n",
              "      <td>nonexistent</td>\n",
              "      <td>1.1</td>\n",
              "      <td>93.994</td>\n",
              "      <td>-36.4</td>\n",
              "      <td>4.857</td>\n",
              "      <td>5191.0</td>\n",
              "      <td>no</td>\n",
              "    </tr>\n",
              "    <tr>\n",
              "      <th>3</th>\n",
              "      <td>40</td>\n",
              "      <td>admin.</td>\n",
              "      <td>married</td>\n",
              "      <td>basic.6y</td>\n",
              "      <td>no</td>\n",
              "      <td>no</td>\n",
              "      <td>no</td>\n",
              "      <td>telephone</td>\n",
              "      <td>may</td>\n",
              "      <td>mon</td>\n",
              "      <td>...</td>\n",
              "      <td>1</td>\n",
              "      <td>999</td>\n",
              "      <td>0</td>\n",
              "      <td>nonexistent</td>\n",
              "      <td>1.1</td>\n",
              "      <td>93.994</td>\n",
              "      <td>-36.4</td>\n",
              "      <td>4.857</td>\n",
              "      <td>5191.0</td>\n",
              "      <td>no</td>\n",
              "    </tr>\n",
              "    <tr>\n",
              "      <th>4</th>\n",
              "      <td>56</td>\n",
              "      <td>services</td>\n",
              "      <td>married</td>\n",
              "      <td>high.school</td>\n",
              "      <td>no</td>\n",
              "      <td>no</td>\n",
              "      <td>yes</td>\n",
              "      <td>telephone</td>\n",
              "      <td>may</td>\n",
              "      <td>mon</td>\n",
              "      <td>...</td>\n",
              "      <td>1</td>\n",
              "      <td>999</td>\n",
              "      <td>0</td>\n",
              "      <td>nonexistent</td>\n",
              "      <td>1.1</td>\n",
              "      <td>93.994</td>\n",
              "      <td>-36.4</td>\n",
              "      <td>4.857</td>\n",
              "      <td>5191.0</td>\n",
              "      <td>no</td>\n",
              "    </tr>\n",
              "  </tbody>\n",
              "</table>\n",
              "<p>5 rows × 21 columns</p>\n",
              "</div>\n",
              "    <div class=\"colab-df-buttons\">\n",
              "\n",
              "  <div class=\"colab-df-container\">\n",
              "    <button class=\"colab-df-convert\" onclick=\"convertToInteractive('df-b3b715eb-392f-48f2-848e-cf4425e00cb5')\"\n",
              "            title=\"Convert this dataframe to an interactive table.\"\n",
              "            style=\"display:none;\">\n",
              "\n",
              "  <svg xmlns=\"http://www.w3.org/2000/svg\" height=\"24px\" viewBox=\"0 -960 960 960\">\n",
              "    <path d=\"M120-120v-720h720v720H120Zm60-500h600v-160H180v160Zm220 220h160v-160H400v160Zm0 220h160v-160H400v160ZM180-400h160v-160H180v160Zm440 0h160v-160H620v160ZM180-180h160v-160H180v160Zm440 0h160v-160H620v160Z\"/>\n",
              "  </svg>\n",
              "    </button>\n",
              "\n",
              "  <style>\n",
              "    .colab-df-container {\n",
              "      display:flex;\n",
              "      gap: 12px;\n",
              "    }\n",
              "\n",
              "    .colab-df-convert {\n",
              "      background-color: #E8F0FE;\n",
              "      border: none;\n",
              "      border-radius: 50%;\n",
              "      cursor: pointer;\n",
              "      display: none;\n",
              "      fill: #1967D2;\n",
              "      height: 32px;\n",
              "      padding: 0 0 0 0;\n",
              "      width: 32px;\n",
              "    }\n",
              "\n",
              "    .colab-df-convert:hover {\n",
              "      background-color: #E2EBFA;\n",
              "      box-shadow: 0px 1px 2px rgba(60, 64, 67, 0.3), 0px 1px 3px 1px rgba(60, 64, 67, 0.15);\n",
              "      fill: #174EA6;\n",
              "    }\n",
              "\n",
              "    .colab-df-buttons div {\n",
              "      margin-bottom: 4px;\n",
              "    }\n",
              "\n",
              "    [theme=dark] .colab-df-convert {\n",
              "      background-color: #3B4455;\n",
              "      fill: #D2E3FC;\n",
              "    }\n",
              "\n",
              "    [theme=dark] .colab-df-convert:hover {\n",
              "      background-color: #434B5C;\n",
              "      box-shadow: 0px 1px 3px 1px rgba(0, 0, 0, 0.15);\n",
              "      filter: drop-shadow(0px 1px 2px rgba(0, 0, 0, 0.3));\n",
              "      fill: #FFFFFF;\n",
              "    }\n",
              "  </style>\n",
              "\n",
              "    <script>\n",
              "      const buttonEl =\n",
              "        document.querySelector('#df-b3b715eb-392f-48f2-848e-cf4425e00cb5 button.colab-df-convert');\n",
              "      buttonEl.style.display =\n",
              "        google.colab.kernel.accessAllowed ? 'block' : 'none';\n",
              "\n",
              "      async function convertToInteractive(key) {\n",
              "        const element = document.querySelector('#df-b3b715eb-392f-48f2-848e-cf4425e00cb5');\n",
              "        const dataTable =\n",
              "          await google.colab.kernel.invokeFunction('convertToInteractive',\n",
              "                                                    [key], {});\n",
              "        if (!dataTable) return;\n",
              "\n",
              "        const docLinkHtml = 'Like what you see? Visit the ' +\n",
              "          '<a target=\"_blank\" href=https://colab.research.google.com/notebooks/data_table.ipynb>data table notebook</a>'\n",
              "          + ' to learn more about interactive tables.';\n",
              "        element.innerHTML = '';\n",
              "        dataTable['output_type'] = 'display_data';\n",
              "        await google.colab.output.renderOutput(dataTable, element);\n",
              "        const docLink = document.createElement('div');\n",
              "        docLink.innerHTML = docLinkHtml;\n",
              "        element.appendChild(docLink);\n",
              "      }\n",
              "    </script>\n",
              "  </div>\n",
              "\n",
              "\n",
              "    <div id=\"df-ccf23a5e-e478-4879-9cab-dcc13f49ca19\">\n",
              "      <button class=\"colab-df-quickchart\" onclick=\"quickchart('df-ccf23a5e-e478-4879-9cab-dcc13f49ca19')\"\n",
              "                title=\"Suggest charts\"\n",
              "                style=\"display:none;\">\n",
              "\n",
              "<svg xmlns=\"http://www.w3.org/2000/svg\" height=\"24px\"viewBox=\"0 0 24 24\"\n",
              "     width=\"24px\">\n",
              "    <g>\n",
              "        <path d=\"M19 3H5c-1.1 0-2 .9-2 2v14c0 1.1.9 2 2 2h14c1.1 0 2-.9 2-2V5c0-1.1-.9-2-2-2zM9 17H7v-7h2v7zm4 0h-2V7h2v10zm4 0h-2v-4h2v4z\"/>\n",
              "    </g>\n",
              "</svg>\n",
              "      </button>\n",
              "\n",
              "<style>\n",
              "  .colab-df-quickchart {\n",
              "      --bg-color: #E8F0FE;\n",
              "      --fill-color: #1967D2;\n",
              "      --hover-bg-color: #E2EBFA;\n",
              "      --hover-fill-color: #174EA6;\n",
              "      --disabled-fill-color: #AAA;\n",
              "      --disabled-bg-color: #DDD;\n",
              "  }\n",
              "\n",
              "  [theme=dark] .colab-df-quickchart {\n",
              "      --bg-color: #3B4455;\n",
              "      --fill-color: #D2E3FC;\n",
              "      --hover-bg-color: #434B5C;\n",
              "      --hover-fill-color: #FFFFFF;\n",
              "      --disabled-bg-color: #3B4455;\n",
              "      --disabled-fill-color: #666;\n",
              "  }\n",
              "\n",
              "  .colab-df-quickchart {\n",
              "    background-color: var(--bg-color);\n",
              "    border: none;\n",
              "    border-radius: 50%;\n",
              "    cursor: pointer;\n",
              "    display: none;\n",
              "    fill: var(--fill-color);\n",
              "    height: 32px;\n",
              "    padding: 0;\n",
              "    width: 32px;\n",
              "  }\n",
              "\n",
              "  .colab-df-quickchart:hover {\n",
              "    background-color: var(--hover-bg-color);\n",
              "    box-shadow: 0 1px 2px rgba(60, 64, 67, 0.3), 0 1px 3px 1px rgba(60, 64, 67, 0.15);\n",
              "    fill: var(--button-hover-fill-color);\n",
              "  }\n",
              "\n",
              "  .colab-df-quickchart-complete:disabled,\n",
              "  .colab-df-quickchart-complete:disabled:hover {\n",
              "    background-color: var(--disabled-bg-color);\n",
              "    fill: var(--disabled-fill-color);\n",
              "    box-shadow: none;\n",
              "  }\n",
              "\n",
              "  .colab-df-spinner {\n",
              "    border: 2px solid var(--fill-color);\n",
              "    border-color: transparent;\n",
              "    border-bottom-color: var(--fill-color);\n",
              "    animation:\n",
              "      spin 1s steps(1) infinite;\n",
              "  }\n",
              "\n",
              "  @keyframes spin {\n",
              "    0% {\n",
              "      border-color: transparent;\n",
              "      border-bottom-color: var(--fill-color);\n",
              "      border-left-color: var(--fill-color);\n",
              "    }\n",
              "    20% {\n",
              "      border-color: transparent;\n",
              "      border-left-color: var(--fill-color);\n",
              "      border-top-color: var(--fill-color);\n",
              "    }\n",
              "    30% {\n",
              "      border-color: transparent;\n",
              "      border-left-color: var(--fill-color);\n",
              "      border-top-color: var(--fill-color);\n",
              "      border-right-color: var(--fill-color);\n",
              "    }\n",
              "    40% {\n",
              "      border-color: transparent;\n",
              "      border-right-color: var(--fill-color);\n",
              "      border-top-color: var(--fill-color);\n",
              "    }\n",
              "    60% {\n",
              "      border-color: transparent;\n",
              "      border-right-color: var(--fill-color);\n",
              "    }\n",
              "    80% {\n",
              "      border-color: transparent;\n",
              "      border-right-color: var(--fill-color);\n",
              "      border-bottom-color: var(--fill-color);\n",
              "    }\n",
              "    90% {\n",
              "      border-color: transparent;\n",
              "      border-bottom-color: var(--fill-color);\n",
              "    }\n",
              "  }\n",
              "</style>\n",
              "\n",
              "      <script>\n",
              "        async function quickchart(key) {\n",
              "          const quickchartButtonEl =\n",
              "            document.querySelector('#' + key + ' button');\n",
              "          quickchartButtonEl.disabled = true;  // To prevent multiple clicks.\n",
              "          quickchartButtonEl.classList.add('colab-df-spinner');\n",
              "          try {\n",
              "            const charts = await google.colab.kernel.invokeFunction(\n",
              "                'suggestCharts', [key], {});\n",
              "          } catch (error) {\n",
              "            console.error('Error during call to suggestCharts:', error);\n",
              "          }\n",
              "          quickchartButtonEl.classList.remove('colab-df-spinner');\n",
              "          quickchartButtonEl.classList.add('colab-df-quickchart-complete');\n",
              "        }\n",
              "        (() => {\n",
              "          let quickchartButtonEl =\n",
              "            document.querySelector('#df-ccf23a5e-e478-4879-9cab-dcc13f49ca19 button');\n",
              "          quickchartButtonEl.style.display =\n",
              "            google.colab.kernel.accessAllowed ? 'block' : 'none';\n",
              "        })();\n",
              "      </script>\n",
              "    </div>\n",
              "\n",
              "    </div>\n",
              "  </div>\n"
            ],
            "application/vnd.google.colaboratory.intrinsic+json": {
              "type": "dataframe",
              "variable_name": "df"
            }
          },
          "metadata": {},
          "execution_count": 5
        }
      ],
      "source": [
        "df.head()"
      ]
    },
    {
      "cell_type": "markdown",
      "metadata": {
        "id": "3wx13B4aXW8o"
      },
      "source": [
        "### Problem 3: Understanding the Features\n",
        "\n",
        "\n",
        "Examine the data description below, and determine if any of the features are missing values or need to be coerced to a different data type.\n",
        "\n",
        "\n",
        "```\n",
        "Input variables:\n",
        "# bank client data:\n",
        "1 - age (numeric)\n",
        "2 - job : type of job (categorical: 'admin.','blue-collar','entrepreneur','housemaid','management','retired','self-employed','services','student','technician','unemployed','unknown')\n",
        "3 - marital : marital status (categorical: 'divorced','married','single','unknown'; note: 'divorced' means divorced or widowed)\n",
        "4 - education (categorical: 'basic.4y','basic.6y','basic.9y','high.school','illiterate','professional.course','university.degree','unknown')\n",
        "5 - default: has credit in default? (categorical: 'no','yes','unknown')\n",
        "6 - housing: has housing loan? (categorical: 'no','yes','unknown')\n",
        "7 - loan: has personal loan? (categorical: 'no','yes','unknown')\n",
        "# related with the last contact of the current campaign:\n",
        "8 - contact: contact communication type (categorical: 'cellular','telephone')\n",
        "9 - month: last contact month of year (categorical: 'jan', 'feb', 'mar', ..., 'nov', 'dec')\n",
        "10 - day_of_week: last contact day of the week (categorical: 'mon','tue','wed','thu','fri')\n",
        "11 - duration: last contact duration, in seconds (numeric). Important note: this attribute highly affects the output target (e.g., if duration=0 then y='no'). Yet, the duration is not known before a call is performed. Also, after the end of the call y is obviously known. Thus, this input should only be included for benchmark purposes and should be discarded if the intention is to have a realistic predictive model.\n",
        "# other attributes:\n",
        "12 - campaign: number of contacts performed during this campaign and for this client (numeric, includes last contact)\n",
        "13 - pdays: number of days that passed by after the client was last contacted from a previous campaign (numeric; 999 means client was not previously contacted)\n",
        "14 - previous: number of contacts performed before this campaign and for this client (numeric)\n",
        "15 - poutcome: outcome of the previous marketing campaign (categorical: 'failure','nonexistent','success')\n",
        "# social and economic context attributes\n",
        "16 - emp.var.rate: employment variation rate - quarterly indicator (numeric)\n",
        "17 - cons.price.idx: consumer price index - monthly indicator (numeric)\n",
        "18 - cons.conf.idx: consumer confidence index - monthly indicator (numeric)\n",
        "19 - euribor3m: euribor 3 month rate - daily indicator (numeric)\n",
        "20 - nr.employed: number of employees - quarterly indicator (numeric)\n",
        "\n",
        "Output variable (desired target):\n",
        "21 - y - has the client subscribed a term deposit? (binary: 'yes','no')\n",
        "```\n",
        "\n"
      ]
    },
    {
      "cell_type": "markdown",
      "source": [
        "**Feature Audit: Missing Values & Data Type Adjustment**\n",
        "\n",
        "| Feature | Type | Data Type in Pandas | Missing Values? | Needs Coercion? | Notes\n",
        "|------------------|--------------------------|----------|-------------------------|--------------------|-----------------|\n",
        "| `age` | Numeric | int64    | No | No |  Fine as is |\n",
        "| `job` | Categorical | object    | No real NA. Has unknown values. | No |  Can treat unknown as separate category or handle accordingly. |\n",
        "| `marital` | Categorical | object    | No real NA. Has unknown values. | No |  handle unknows |\n",
        "| `education` | Categorical | object    | No real NA. Has unknown values. | No |  basic.* can be grouped into 1 level if needed |\n",
        "| `default` | Categorical | object    | No real NA. Has unknown values. | No |  has a large number of unknowns |\n",
        "| `housing` | Categorical | object    | No real NA. Has unknown values. | No |  has a large number of unknowns |\n",
        "| `loan` | Categorical | object    | No real NA. Has unknown values. | No |  has a large number of unknowns |\n",
        "| `contact` | Categorical | object    | No | No |  Fine as is |\n",
        "| `month` | Categorical | object    | No | Can map values to numeric, Jan = 1 |  helps with modeling seasonality |\n",
        "| `day_of_week` | Categorical | object    | No | Can use ordinal encoding |  depends on algorithm |\n",
        "| `duration` | Numeric | int64    | No | No |  only available post-call |\n",
        "| `campaign` | Numeric | int64    | No | No |  Fine as is |\n",
        "| `pdays` | Numeric | int64    | No | Can flag 999 as 'never contacted' |  create binary featue `was_previously_contacted` |\n",
        "| `previous` | Numeric | int64    | No | No |  Fine as is |\n",
        "| `poutcome` | Categorical| object   | No | No |  try encoding |\n",
        "| `emp.var.rate` | Numeric | float64    | No | No |  Fine as is |\n",
        "| `cons.price.idx` | Numeric | float64   | No | No |  Fine as is |\n",
        "| `cons.conf.idx` | Numeric | float64    | No | No |  Fine as is |\n",
        "| `euribor3m` | Numeric | float64    | No | No |  Fine as is |\n",
        "| `nr.employed` | Numeric | float64    | No | No |  Fine as is |\n",
        "| `y` (target) | Categorical | object    | No | Can map to 0/1 |  map 'yes' to 1 and 'no' to 0 |"
      ],
      "metadata": {
        "id": "TRsuU4QXm8zT"
      }
    },
    {
      "cell_type": "markdown",
      "source": [
        "**Notes: Feature Understanding**\n",
        "\n",
        "- The dataset contains no true `NaN` values, but many categorical fields include the value `\"unknown\"`, which may represent missing or unavailable data.\n",
        "- `duration` is known only after a call is completed and directly affects the target variable `y`. Including it can inflate model performance unrealistically. Therefore, it will be excluded from model training for fairness.\n",
        "- All numerical features are correctly typed.\n",
        "- The target variable `y` will be mapped to binary (1 for \"yes\", 0 for \"no\").\n",
        "- Optional coercions:\n",
        "  - Map `month` to numeric values (e.g, jan → 1, feb → 2)\n",
        "  - Encode `day_of_week` using ordinal or one-hot encoding\n",
        "  - Add a binary flag for `pdays == 999` to capture clients who were never contacted before"
      ],
      "metadata": {
        "id": "isZ4NdQMuD1G"
      }
    },
    {
      "cell_type": "markdown",
      "metadata": {
        "id": "XXj4gIymXW8o"
      },
      "source": [
        "### Problem 4: Understanding the Task\n",
        "\n",
        "After examining the description and data, your goal now is to clearly state the *Business Objective* of the task.  State the objective below."
      ]
    },
    {
      "cell_type": "markdown",
      "source": [
        "**Business Objective**\n",
        "\n",
        "The goal of this task is to develop a predictive model that accurately determines whether a client will subscribe to a term deposit based on hostorical data from past direct marketing campaigns conducted by a Portugese Bank.\n",
        "\n",
        "\n",
        "By using classification techniques such as Logistic Regression, K-Nearest Neighbors, Decision Trees and Support Vector Machines, the aim is to:\n",
        "\n",
        "- Improve targeting efficiency in future marketing efforts.\n",
        "- Reduce operational costs by focusing on likely responders.\n",
        "- Minimize client fatigue from unnecessary or repeated calls.\n",
        "- Ultimately, increase the success rate of term deposit subscriptions.\n",
        "\n",
        "The predictive model will help the bank make data-driven decisions about whom to contact, when, and under what circumstances, therefore maximizing the return on investment while enhancing customer experience.\n"
      ],
      "metadata": {
        "id": "LUdS_lbouvqC"
      }
    },
    {
      "cell_type": "code",
      "execution_count": 6,
      "metadata": {
        "colab": {
          "base_uri": "https://localhost:8080/"
        },
        "id": "2sI7yqj7XW8o",
        "outputId": "f7853a48-e2ad-469e-b32f-9822062ed8cc"
      },
      "outputs": [
        {
          "output_type": "stream",
          "name": "stdout",
          "text": [
            "<class 'pandas.core.frame.DataFrame'>\n",
            "RangeIndex: 41188 entries, 0 to 41187\n",
            "Data columns (total 21 columns):\n",
            " #   Column          Non-Null Count  Dtype  \n",
            "---  ------          --------------  -----  \n",
            " 0   age             41188 non-null  int64  \n",
            " 1   job             41188 non-null  object \n",
            " 2   marital         41188 non-null  object \n",
            " 3   education       41188 non-null  object \n",
            " 4   default         41188 non-null  object \n",
            " 5   housing         41188 non-null  object \n",
            " 6   loan            41188 non-null  object \n",
            " 7   contact         41188 non-null  object \n",
            " 8   month           41188 non-null  object \n",
            " 9   day_of_week     41188 non-null  object \n",
            " 10  duration        41188 non-null  int64  \n",
            " 11  campaign        41188 non-null  int64  \n",
            " 12  pdays           41188 non-null  int64  \n",
            " 13  previous        41188 non-null  int64  \n",
            " 14  poutcome        41188 non-null  object \n",
            " 15  emp.var.rate    41188 non-null  float64\n",
            " 16  cons.price.idx  41188 non-null  float64\n",
            " 17  cons.conf.idx   41188 non-null  float64\n",
            " 18  euribor3m       41188 non-null  float64\n",
            " 19  nr.employed     41188 non-null  float64\n",
            " 20  y               41188 non-null  object \n",
            "dtypes: float64(5), int64(5), object(11)\n",
            "memory usage: 6.6+ MB\n"
          ]
        }
      ],
      "source": [
        "df.info()"
      ]
    },
    {
      "cell_type": "markdown",
      "metadata": {
        "id": "usUo-2rdXW8o"
      },
      "source": [
        "### Problem 5: Engineering Features\n",
        "\n",
        "Now that you understand your business objective, we will build a basic model to get started.  Before we can do this, we must work to encode the data.  Using just the bank information features, prepare the features and target column for modeling with appropriate encoding and transformations."
      ]
    },
    {
      "cell_type": "markdown",
      "source": [
        "The Bank Client Information features are:\n",
        "\n",
        "- `age`\n",
        "- `job`\n",
        "- `marital`\n",
        "- `education`\n",
        "- `default`\n",
        "- `housing`\n",
        "- `loan`\n",
        "\n",
        "\n",
        "and target variable `y`"
      ],
      "metadata": {
        "id": "-V9hgOQ-yQL_"
      }
    },
    {
      "cell_type": "code",
      "execution_count": 7,
      "metadata": {
        "colab": {
          "base_uri": "https://localhost:8080/"
        },
        "id": "IuOT7-prXW8o",
        "outputId": "4988bf4d-8ad3-4877-910f-42902bc84452"
      },
      "outputs": [
        {
          "output_type": "stream",
          "name": "stdout",
          "text": [
            "--------X Info---------\n",
            "<class 'pandas.core.frame.DataFrame'>\n",
            "RangeIndex: 41188 entries, 0 to 41187\n",
            "Data columns (total 28 columns):\n",
            " #   Column                         Non-Null Count  Dtype\n",
            "---  ------                         --------------  -----\n",
            " 0   age                            41188 non-null  int64\n",
            " 1   job_blue-collar                41188 non-null  bool \n",
            " 2   job_entrepreneur               41188 non-null  bool \n",
            " 3   job_housemaid                  41188 non-null  bool \n",
            " 4   job_management                 41188 non-null  bool \n",
            " 5   job_retired                    41188 non-null  bool \n",
            " 6   job_self-employed              41188 non-null  bool \n",
            " 7   job_services                   41188 non-null  bool \n",
            " 8   job_student                    41188 non-null  bool \n",
            " 9   job_technician                 41188 non-null  bool \n",
            " 10  job_unemployed                 41188 non-null  bool \n",
            " 11  job_unknown                    41188 non-null  bool \n",
            " 12  marital_married                41188 non-null  bool \n",
            " 13  marital_single                 41188 non-null  bool \n",
            " 14  marital_unknown                41188 non-null  bool \n",
            " 15  education_basic.6y             41188 non-null  bool \n",
            " 16  education_basic.9y             41188 non-null  bool \n",
            " 17  education_high.school          41188 non-null  bool \n",
            " 18  education_illiterate           41188 non-null  bool \n",
            " 19  education_professional.course  41188 non-null  bool \n",
            " 20  education_university.degree    41188 non-null  bool \n",
            " 21  education_unknown              41188 non-null  bool \n",
            " 22  default_unknown                41188 non-null  bool \n",
            " 23  default_yes                    41188 non-null  bool \n",
            " 24  housing_unknown                41188 non-null  bool \n",
            " 25  housing_yes                    41188 non-null  bool \n",
            " 26  loan_unknown                   41188 non-null  bool \n",
            " 27  loan_yes                       41188 non-null  bool \n",
            "dtypes: bool(27), int64(1)\n",
            "memory usage: 1.4 MB\n",
            "None\n",
            "--------X Head---------\n",
            "   age  job_blue-collar  job_entrepreneur  job_housemaid  job_management  \\\n",
            "0   56            False             False           True           False   \n",
            "1   57            False             False          False           False   \n",
            "2   37            False             False          False           False   \n",
            "3   40            False             False          False           False   \n",
            "4   56            False             False          False           False   \n",
            "\n",
            "   job_retired  job_self-employed  job_services  job_student  job_technician  \\\n",
            "0        False              False         False        False           False   \n",
            "1        False              False          True        False           False   \n",
            "2        False              False          True        False           False   \n",
            "3        False              False         False        False           False   \n",
            "4        False              False          True        False           False   \n",
            "\n",
            "   ...  education_illiterate  education_professional.course  \\\n",
            "0  ...                 False                          False   \n",
            "1  ...                 False                          False   \n",
            "2  ...                 False                          False   \n",
            "3  ...                 False                          False   \n",
            "4  ...                 False                          False   \n",
            "\n",
            "   education_university.degree  education_unknown  default_unknown  \\\n",
            "0                        False              False            False   \n",
            "1                        False              False             True   \n",
            "2                        False              False            False   \n",
            "3                        False              False            False   \n",
            "4                        False              False            False   \n",
            "\n",
            "   default_yes  housing_unknown  housing_yes  loan_unknown  loan_yes  \n",
            "0        False            False        False         False     False  \n",
            "1        False            False        False         False     False  \n",
            "2        False            False         True         False     False  \n",
            "3        False            False        False         False     False  \n",
            "4        False            False        False         False      True  \n",
            "\n",
            "[5 rows x 28 columns]\n",
            "--------Y Value counts---------\n",
            "y\n",
            "0    36548\n",
            "1     4640\n",
            "Name: count, dtype: int64\n",
            "--------Unknown Value Counts---------\n",
            "job           330\n",
            "marital        80\n",
            "education    1731\n",
            "default      8597\n",
            "housing       990\n",
            "loan          990\n",
            "dtype: int64\n"
          ]
        }
      ],
      "source": [
        "# Feature Preparation\n",
        "\n",
        "#Step 1: Select only the bank client features\n",
        "bank_features = ['age', 'job', 'marital', 'education', 'default', 'housing', 'loan', 'y']\n",
        "df_bank = df[bank_features].copy()\n",
        "\n",
        "#Step 2: Encode target variable. Map 0 -> No and 1-> Yes\n",
        "df_bank['y'] = df_bank['y'].map({'no':0, 'yes':1})\n",
        "\n",
        "#Step 3: One-hot encoding for categorical values\n",
        "# drop_first=True avoids dummy variable trap by excluding the first level in each feature.\n",
        "#numerical value 'age' remains unchanged.\n",
        "categorical_features = ['job', 'marital', 'education', 'default', 'housing', 'loan']\n",
        "df_encoded = pd.get_dummies(df_bank, columns = categorical_features, drop_first=True)\n",
        "\n",
        "#Step 4: Separate features and target\n",
        "X = df_encoded.drop('y', axis = 1)\n",
        "y = df_encoded['y']\n",
        "\n",
        "\n",
        "#check the result\n",
        "print(\"--------X Info---------\")\n",
        "print(X.info())\n",
        "print(\"--------X Head---------\")\n",
        "print(X.head())\n",
        "print(\"--------Y Value counts---------\")\n",
        "print(y.value_counts())\n",
        "\n",
        "# check if unknown values exist in important columns\n",
        "print(\"--------Unknown Value Counts---------\")\n",
        "print(df_bank[categorical_features].apply(lambda x:(x=='unknown').sum()))"
      ]
    },
    {
      "cell_type": "markdown",
      "source": [
        "#### Handling 'unknown' Values\n",
        "\n",
        "- Several features contain the category 'unknown', including `default`, `education`, and `loan`.\n",
        "  - Not ideal to drop unknowns in `default`, as unknown values are too many (~20%).\n",
        "- Instead of dropping these rows or imputing values without strong justification, values can be retained under the 'unknown' category for each feature.\n",
        "- This preserves data volume and may even offer predictive insight (e.g, clients unwilling to disclose financial info may behave differently)."
      ],
      "metadata": {
        "id": "HbqyCD2r1cYP"
      }
    },
    {
      "cell_type": "markdown",
      "metadata": {
        "id": "_Va44Lr3XW8o"
      },
      "source": [
        "### Problem 6: Train/Test Split\n",
        "\n",
        "With your data prepared, split it into a train and test set."
      ]
    },
    {
      "cell_type": "code",
      "execution_count": 8,
      "metadata": {
        "id": "Nc18m9sXXW8o"
      },
      "outputs": [],
      "source": [
        "from sklearn.model_selection import train_test_split"
      ]
    },
    {
      "cell_type": "code",
      "execution_count": 9,
      "metadata": {
        "colab": {
          "base_uri": "https://localhost:8080/"
        },
        "id": "eIf6hlNzXW8p",
        "outputId": "cb536d75-bdef-4086-a83f-b59fb1bdc5b0"
      },
      "outputs": [
        {
          "output_type": "stream",
          "name": "stdout",
          "text": [
            "~~~~~~~~~~~~~~~Train-Test Split~~~~~~~~~~~~~\n",
            "Training set: (32950, 28) (32950,)\n",
            "Test set: (8238, 28) (8238,)\n",
            "~~~~~~~~~~~~~~~Class Balance~~~~~~~~~~~~~\n",
            "Training target distribution:\n",
            "y\n",
            "0    0.887344\n",
            "1    0.112656\n",
            "Name: proportion, dtype: float64\n",
            "\n",
            "Test target distribution:\n",
            "y\n",
            "0    0.887351\n",
            "1    0.112649\n",
            "Name: proportion, dtype: float64\n"
          ]
        }
      ],
      "source": [
        "# Split the data: 80% training, 20% testing\n",
        "X_train, X_test, y_train, y_test = train_test_split(\n",
        "    X, y,\n",
        "    test_size = 0.2,\n",
        "    random_state = 42,\n",
        "    stratify = y    #ensures target class proportions are preserved\n",
        ")\n",
        "\n",
        "#confirm the shape of splits\n",
        "print(\"~~~~~~~~~~~~~~~Train-Test Split~~~~~~~~~~~~~\")\n",
        "print(\"Training set:\", X_train.shape, y_train.shape)\n",
        "print(\"Test set:\", X_test.shape, y_test.shape)\n",
        "\n",
        "#confirm class balance\n",
        "print(\"~~~~~~~~~~~~~~~Class Balance~~~~~~~~~~~~~\")\n",
        "print(\"Training target distribution:\")\n",
        "print(y_train.value_counts(normalize=True))\n",
        "print(\"\\nTest target distribution:\")\n",
        "print(y_test.value_counts(normalize=True))"
      ]
    },
    {
      "cell_type": "markdown",
      "source": [
        "**Train-Test Split**\n",
        "\n",
        "The dataset was split into training and test sets using an 80/20 ratio with stratified sampling on the target variable `y` to preserve the class distribution.\n",
        "\n",
        "- **Training set size:** 80%\n",
        "- **Test set size:** 20%\n",
        "- **Stratification:** Yes (on `y`)\n",
        "  - Because your target (y) is imbalanced (~88% no, ~12% yes), stratification ensures both train and test sets maintain this proportion by avoiding bias in evaluation.\n",
        "\n",
        "This setup ensures a representative evaluation of model performance on unseen data."
      ],
      "metadata": {
        "id": "3YFzrO9i3s2g"
      }
    },
    {
      "cell_type": "markdown",
      "metadata": {
        "id": "wXdyh_f0XW8p"
      },
      "source": [
        "### Problem 7: A Baseline Model\n",
        "\n",
        "Before we build our first model, we want to establish a baseline.  What is the baseline performance that our classifier should aim to beat?"
      ]
    },
    {
      "cell_type": "markdown",
      "source": [
        "**Stratified Random Classifier**\n",
        "\n",
        "- Predicts based on the class distribution in the training set (88% -> 0 , 12% -> 1)\n",
        "- Randomly assigns labels based on that distribution\n",
        "- Use DummyClassifier('strategy = 'stratified')\n",
        "- Useful to show why random guessing doesn't help even if it respects class proportions."
      ],
      "metadata": {
        "id": "-ctOSGCeDIL-"
      }
    },
    {
      "cell_type": "code",
      "execution_count": 12,
      "metadata": {
        "id": "Dd2U5LnPXW8p"
      },
      "outputs": [],
      "source": [
        "from sklearn.dummy import DummyClassifier\n",
        "from sklearn.metrics import classification_report, accuracy_score, confusion_matrix"
      ]
    },
    {
      "cell_type": "code",
      "execution_count": 13,
      "metadata": {
        "colab": {
          "base_uri": "https://localhost:8080/"
        },
        "id": "HmNXwMWiXW8p",
        "outputId": "287f26fa-ddd7-406b-9930-4f76188538f0"
      },
      "outputs": [
        {
          "output_type": "stream",
          "name": "stdout",
          "text": [
            "Startified Dummy Classifier Performance:\n",
            "\n",
            "Accuracy Score: 0.803714493809177\n",
            "Confusion Matrix:\n",
            " [[6510  800]\n",
            " [ 817  111]]\n",
            "\n",
            "Classification Report:\n",
            "               precision    recall  f1-score   support\n",
            "\n",
            "           0       0.89      0.89      0.89      7310\n",
            "           1       0.12      0.12      0.12       928\n",
            "\n",
            "    accuracy                           0.80      8238\n",
            "   macro avg       0.51      0.51      0.51      8238\n",
            "weighted avg       0.80      0.80      0.80      8238\n",
            "\n"
          ]
        }
      ],
      "source": [
        "# Initialize DummyClassifier with stratified strategy\n",
        "dummy_stratified = DummyClassifier(strategy='stratified', random_state=42)\n",
        "dummy_stratified.fit(X_train, y_train)\n",
        "\n",
        "# Make predictions on test data set\n",
        "y_pred_dummy = dummy_stratified.predict(X_test)\n",
        "\n",
        "#Evaluate\n",
        "print(\"Startified Dummy Classifier Performance:\\n\")\n",
        "print(\"Accuracy Score:\", accuracy_score(y_test, y_pred_dummy))\n",
        "print(\"Confusion Matrix:\\n\", confusion_matrix(y_test, y_pred_dummy))\n",
        "print(\"\\nClassification Report:\\n\", classification_report(y_test, y_pred_dummy))"
      ]
    },
    {
      "cell_type": "markdown",
      "source": [
        "- The accuracy score: 80.4% looks good, but this is misleading due to class imbalance.\n",
        "- The confusion matrix shows 817 false negatives and 800 false positives.\n",
        "  - which means the model is making mistakes.\n",
        "  - the model failed to meaningfully identify true positives (class 1).\n",
        "- The precision score for Class (1) shows that, of all predicted \"yes\", only 12% were correct.\n",
        "- The recall score for Class (1) shows that, only 12% of actual \"yes\" cases were caught.\n",
        "- The F1 score for Class (1) shows a poor balance of precision and recall.\n",
        "- The macro avg F1 shows that, it gives equal weights to both Classes (0) and (1), which shows imbalance more claerly.\n",
        "- These insights reinforce that the accuracy is not enough, especially when Class (1) is the primary business interest.\n",
        "\n",
        "\n",
        "This highlights the **importance of recall, precision, and F1-score** over accuracy alone in imbalanced classification problems.\n"
      ],
      "metadata": {
        "id": "dL8VlQDtFBDR"
      }
    },
    {
      "cell_type": "markdown",
      "metadata": {
        "id": "HDF1W3WTXW8p"
      },
      "source": [
        "### Problem 8: A Simple Model\n",
        "\n",
        "Use Logistic Regression to build a basic model on your data.  "
      ]
    },
    {
      "cell_type": "code",
      "execution_count": 14,
      "metadata": {
        "id": "xPzvyd9cXW8p"
      },
      "outputs": [],
      "source": [
        "from sklearn.linear_model import LogisticRegression"
      ]
    },
    {
      "cell_type": "code",
      "source": [
        "# Initialize model\n",
        "logr = LogisticRegression(max_iter=1000, solver='liblinear', random_state=42, class_weight='balanced')\n",
        "\n",
        "# Train\n",
        "logr.fit(X_train,y_train)\n",
        "\n",
        "# Predict\n",
        "y_pred_logr = logr.predict(X_test)"
      ],
      "metadata": {
        "id": "bCZm2AgFJwus"
      },
      "execution_count": 15,
      "outputs": []
    },
    {
      "cell_type": "markdown",
      "source": [
        "**Logistic Regression Model**\n",
        "\n",
        "Trained a Logistic Regression model using all encoded client information features.\n",
        "\n",
        "- The solver `liblinear` was selected due to small-to-medium sized dataset.\n",
        "- Set `max_iter=1000` to ensure convergence during training.\n",
        "- Model performance is compared to the stratified baseline to assess its ability to correctly predict positive term deposit subscriptions.\n",
        "\n",
        "- Evaluation metrics such as **precision**, **recall**, **F1-score**, and **confusion matrix** are used to interpret performance beyond accuracy due to class imbalance.\n",
        "\n",
        "\n",
        "- Without `class_weight='balanced'`, the model predicted only class 0 (all 'no').\n",
        "  - so there were no predicted positives to calculate precision/recall/F1 score for class 1.\n",
        "  - this is expected in imbalanced datasets, where Logistic Regression becomes too conservative and acoids predicting the minority class.\n",
        "\n",
        "- Therefore after applying `class_weight='balanced'` in the Logistic Regression model, it adjusted the model to give more importance to the minority class ('yes') and improved recall and F1-score for positive predictions."
      ],
      "metadata": {
        "id": "Kj4M-D3jL1TL"
      }
    },
    {
      "cell_type": "markdown",
      "metadata": {
        "id": "6o26mCQwXW8p"
      },
      "source": [
        "### Problem 9: Score the Model\n",
        "\n",
        "What is the accuracy of your model?"
      ]
    },
    {
      "cell_type": "code",
      "execution_count": 16,
      "metadata": {
        "colab": {
          "base_uri": "https://localhost:8080/"
        },
        "id": "eCRap3BgXW8p",
        "outputId": "bd7f5142-aa6f-475c-bbc5-f4da335be96c"
      },
      "outputs": [
        {
          "output_type": "stream",
          "name": "stdout",
          "text": [
            "Logistic Regression Classifier Performance:\n",
            "\n",
            "Accuracy: 0.5846079145423646\n",
            "Confusion Matrix:\n",
            " [[4238 3072]\n",
            " [ 350  578]]\n",
            "\n",
            "Classification Report:\n",
            "               precision    recall  f1-score   support\n",
            "\n",
            "           0       0.92      0.58      0.71      7310\n",
            "           1       0.16      0.62      0.25       928\n",
            "\n",
            "    accuracy                           0.58      8238\n",
            "   macro avg       0.54      0.60      0.48      8238\n",
            "weighted avg       0.84      0.58      0.66      8238\n",
            "\n"
          ]
        }
      ],
      "source": [
        "# Evaluate Logistic Regression Model Performance\n",
        "print(\"Logistic Regression Classifier Performance:\\n\")\n",
        "print(\"Accuracy:\", accuracy_score(y_test, y_pred_logr))\n",
        "print(\"Confusion Matrix:\\n\", confusion_matrix(y_test, y_pred_logr))\n",
        "print(\"\\nClassification Report:\\n\", classification_report(y_test, y_pred_logr))"
      ]
    },
    {
      "cell_type": "markdown",
      "source": [
        "**Logistic Regression - Results Analysis**\n",
        "\n",
        "- Confusion Matrix is now catching more \"yes\" cases, 578 vs 111 (from stratified dummy classifer).\n",
        "  - the false positives (3072) are high, which is why the precision is low(16%) for class 1.\n",
        "\n",
        "- Recall Score:\n",
        "  - Increased from 0.12 to 0.62 for Class (1).\n",
        "  - Shows 62% for Class (1) - which is important from business point of view, as\n",
        "  it is better to call a few customers who might not subscribe instead of missing a potential customer.\n",
        "\n",
        "- F1 Score:\n",
        "  - Improved from 0.12 to 0.25 for Class (1).\n",
        "\n",
        "- Accuracy:\n",
        "  - Dropped from 0.80(Dummy Classifier) to 0.58, but this is expected in imbalanced classification tasks.\n",
        "\n",
        "The trade-off shows that **Logistic Regression model is now identifying meaningful positive cases** which is essential for the bank's goal of efficiently targeting potential subscribers to term deposits."
      ],
      "metadata": {
        "id": "A533yiHDPNcY"
      }
    },
    {
      "cell_type": "code",
      "source": [
        "# Plot the confusion matrix\n",
        "\n",
        "import seaborn as sns\n",
        "import matplotlib.pyplot as plt\n",
        "\n",
        "plt.figure(figsize=(6,4))\n",
        "sns.heatmap(confusion_matrix(y_test, y_pred_logr), annot=True, fmt='d', cmap='Blues', xticklabels=['No', 'Yes'], yticklabels=['No', 'Yes'])\n",
        "plt.xlabel('Predicted')\n",
        "plt.ylabel('Actual')\n",
        "plt.title('Confusion Matrix - Logistic Regression')\n",
        "plt.show()"
      ],
      "metadata": {
        "colab": {
          "base_uri": "https://localhost:8080/",
          "height": 410
        },
        "id": "reRo7SAsPb1x",
        "outputId": "217cdbfa-476d-4f2c-e5a4-9dfb75a7317b"
      },
      "execution_count": 17,
      "outputs": [
        {
          "output_type": "display_data",
          "data": {
            "text/plain": [
              "<Figure size 600x400 with 2 Axes>"
            ],
            "image/png": "[encoded data removed]"
          },
          "metadata": {}
        }
      ]
    },
    {
      "cell_type": "code",
      "source": [
        "# plot the ROC Curve\n",
        "\n",
        "from sklearn.metrics import roc_curve, roc_auc_score\n",
        "\n",
        "# get predicted probabilities for class 1\n",
        "y_probs = logr.predict_proba(X_test)[:,1]\n",
        "\n",
        "#ROC curve values\n",
        "fpr, tpr,thresholds = roc_curve(y_test, y_probs)\n",
        "auc_score = roc_auc_score(y_test, y_probs)\n",
        "\n",
        "# plot\n",
        "plt.figure(figsize=(6,4))\n",
        "plt.plot(fpr, tpr, color='darkorange', label = f'Logistic Regression (AUC = {auc_score:.2f})')\n",
        "plt.plot([0,1], [0,1], 'k--')\n",
        "plt.xlabel('False Positive Rate')\n",
        "plt.ylabel('True Positive Rate')\n",
        "plt.title('ROC Curve - Logistic Regression')\n",
        "plt.legend()\n",
        "plt.grid(True)\n",
        "plt.show()"
      ],
      "metadata": {
        "colab": {
          "base_uri": "https://localhost:8080/",
          "height": 410
        },
        "id": "8NISTsX1QPMy",
        "outputId": "81efcb91-7973-4f49-fdc2-8a928aea08e3"
      },
      "execution_count": 18,
      "outputs": [
        {
          "output_type": "display_data",
          "data": {
            "text/plain": [
              "<Figure size 600x400 with 1 Axes>"
            ],
            "image/png": "[encoded data removed]"
          },
          "metadata": {}
        }
      ]
    },
    {
      "cell_type": "markdown",
      "source": [
        "**ROC -> Receiver Operating Characteristic Curve**\n",
        "\n",
        "- ROC is a graph that shows how well the classifier distinguishes between the two classes (yes/no) across different cutoffs.\n",
        "  - X-axis: False Positive Rate(FPR)\n",
        "    - How many \"no\" clients were incorrectly predicted as \"yes\"\n",
        "  - Y-axis: True Positive Rate(TPR)\n",
        "    - How many actual \"yes\" clients were correctly predicted.\n",
        "\n",
        "\n",
        "**AUC -> Area Under ROC Curve\"**\n",
        "\n",
        "- It gives a single number to measure how good the model is at separating the two classes:\n",
        "  - 0.5 : Bad model (no better than random guessing)\n",
        "  - 0.6 - 0.7 : Fair, better than random\n",
        "  - 0.7 - 0.8 : Good separation\n",
        "  - 0.8 - 0.9 : Very good\n",
        "  - 0.9 - 1.0 : Excellent model\n",
        "\n",
        "\n",
        "**ROC Curve analysis**\n",
        "\n",
        "The ROC Curve shows the trade-off between the True Positive Rate(recall) and the False Positive Rate at various classification thresholds\n",
        "\n",
        "- The AUC for the above Logistic Regression model is **0.65**.\n",
        "- this indicates a **fair** ability to distinguish between clients who will subscribe to a term deposit and those who won't.\n",
        "- The model is not perfect, but performs better than random guessing (AUC = 0.5) and further improvement is possible with additional features or model tuning."
      ],
      "metadata": {
        "id": "Fejdt3ONRzVg"
      }
    },
    {
      "cell_type": "markdown",
      "metadata": {
        "id": "cB4WgJZkXW8p"
      },
      "source": [
        "### Problem 10: Model Comparisons\n",
        "\n",
        "Now, we aim to compare the performance of the Logistic Regression model to our KNN algorithm, Decision Tree, and SVM models.  Using the default settings for each of the models, fit and score each.  Also, be sure to compare the fit time of each of the models.  Present your findings in a `DataFrame` similar to that below:\n",
        "\n",
        "| Model | Train Time | Train Accuracy | Test Accuracy |\n",
        "| ----- | ---------- | -------------  | -----------   |\n",
        "|     |    |.     |.     |"
      ]
    },
    {
      "cell_type": "code",
      "execution_count": 19,
      "metadata": {
        "id": "aAueSxCwXW8p"
      },
      "outputs": [],
      "source": [
        "from sklearn.neighbors import KNeighborsClassifier\n",
        "from sklearn.tree import DecisionTreeClassifier\n",
        "from sklearn.svm import SVC\n",
        "import time"
      ]
    },
    {
      "cell_type": "code",
      "execution_count": 20,
      "metadata": {
        "colab": {
          "base_uri": "https://localhost:8080/",
          "height": 175
        },
        "id": "47aZrg2rXW8p",
        "outputId": "2a07fa8d-8c66-461f-9aa5-fc8592a8b6bd"
      },
      "outputs": [
        {
          "output_type": "execute_result",
          "data": {
            "text/plain": [
              "                 Model  Train Time(s)  Train Accuracy  Test Accuracy\n",
              "0  Logistic Regression         0.1593          0.5908         0.5846\n",
              "1                  KNN         0.0188          0.8907         0.8787\n",
              "2        Decision Tree         0.2047          0.9171         0.8637\n",
              "3                  SVM        21.2532          0.8873         0.8874"
            ],
            "text/html": [
              "\n",
              "  <div id=\"df-7a365016-9e62-4aeb-878f-fd9c36433537\" class=\"colab-df-container\">\n",
              "    <div>\n",
              "<style scoped>\n",
              "    .dataframe tbody tr th:only-of-type {\n",
              "        vertical-align: middle;\n",
              "    }\n",
              "\n",
              "    .dataframe tbody tr th {\n",
              "        vertical-align: top;\n",
              "    }\n",
              "\n",
              "    .dataframe thead th {\n",
              "        text-align: right;\n",
              "    }\n",
              "</style>\n",
              "<table border=\"1\" class=\"dataframe\">\n",
              "  <thead>\n",
              "    <tr style=\"text-align: right;\">\n",
              "      <th></th>\n",
              "      <th>Model</th>\n",
              "      <th>Train Time(s)</th>\n",
              "      <th>Train Accuracy</th>\n",
              "      <th>Test Accuracy</th>\n",
              "    </tr>\n",
              "  </thead>\n",
              "  <tbody>\n",
              "    <tr>\n",
              "      <th>0</th>\n",
              "      <td>Logistic Regression</td>\n",
              "      <td>0.1593</td>\n",
              "      <td>0.5908</td>\n",
              "      <td>0.5846</td>\n",
              "    </tr>\n",
              "    <tr>\n",
              "      <th>1</th>\n",
              "      <td>KNN</td>\n",
              "      <td>0.0188</td>\n",
              "      <td>0.8907</td>\n",
              "      <td>0.8787</td>\n",
              "    </tr>\n",
              "    <tr>\n",
              "      <th>2</th>\n",
              "      <td>Decision Tree</td>\n",
              "      <td>0.2047</td>\n",
              "      <td>0.9171</td>\n",
              "      <td>0.8637</td>\n",
              "    </tr>\n",
              "    <tr>\n",
              "      <th>3</th>\n",
              "      <td>SVM</td>\n",
              "      <td>21.2532</td>\n",
              "      <td>0.8873</td>\n",
              "      <td>0.8874</td>\n",
              "    </tr>\n",
              "  </tbody>\n",
              "</table>\n",
              "</div>\n",
              "    <div class=\"colab-df-buttons\">\n",
              "\n",
              "  <div class=\"colab-df-container\">\n",
              "    <button class=\"colab-df-convert\" onclick=\"convertToInteractive('df-7a365016-9e62-4aeb-878f-fd9c36433537')\"\n",
              "            title=\"Convert this dataframe to an interactive table.\"\n",
              "            style=\"display:none;\">\n",
              "\n",
              "  <svg xmlns=\"http://www.w3.org/2000/svg\" height=\"24px\" viewBox=\"0 -960 960 960\">\n",
              "    <path d=\"M120-120v-720h720v720H120Zm60-500h600v-160H180v160Zm220 220h160v-160H400v160Zm0 220h160v-160H400v160ZM180-400h160v-160H180v160Zm440 0h160v-160H620v160ZM180-180h160v-160H180v160Zm440 0h160v-160H620v160Z\"/>\n",
              "  </svg>\n",
              "    </button>\n",
              "\n",
              "  <style>\n",
              "    .colab-df-container {\n",
              "      display:flex;\n",
              "      gap: 12px;\n",
              "    }\n",
              "\n",
              "    .colab-df-convert {\n",
              "      background-color: #E8F0FE;\n",
              "      border: none;\n",
              "      border-radius: 50%;\n",
              "      cursor: pointer;\n",
              "      display: none;\n",
              "      fill: #1967D2;\n",
              "      height: 32px;\n",
              "      padding: 0 0 0 0;\n",
              "      width: 32px;\n",
              "    }\n",
              "\n",
              "    .colab-df-convert:hover {\n",
              "      background-color: #E2EBFA;\n",
              "      box-shadow: 0px 1px 2px rgba(60, 64, 67, 0.3), 0px 1px 3px 1px rgba(60, 64, 67, 0.15);\n",
              "      fill: #174EA6;\n",
              "    }\n",
              "\n",
              "    .colab-df-buttons div {\n",
              "      margin-bottom: 4px;\n",
              "    }\n",
              "\n",
              "    [theme=dark] .colab-df-convert {\n",
              "      background-color: #3B4455;\n",
              "      fill: #D2E3FC;\n",
              "    }\n",
              "\n",
              "    [theme=dark] .colab-df-convert:hover {\n",
              "      background-color: #434B5C;\n",
              "      box-shadow: 0px 1px 3px 1px rgba(0, 0, 0, 0.15);\n",
              "      filter: drop-shadow(0px 1px 2px rgba(0, 0, 0, 0.3));\n",
              "      fill: #FFFFFF;\n",
              "    }\n",
              "  </style>\n",
              "\n",
              "    <script>\n",
              "      const buttonEl =\n",
              "        document.querySelector('#df-7a365016-9e62-4aeb-878f-fd9c36433537 button.colab-df-convert');\n",
              "      buttonEl.style.display =\n",
              "        google.colab.kernel.accessAllowed ? 'block' : 'none';\n",
              "\n",
              "      async function convertToInteractive(key) {\n",
              "        const element = document.querySelector('#df-7a365016-9e62-4aeb-878f-fd9c36433537');\n",
              "        const dataTable =\n",
              "          await google.colab.kernel.invokeFunction('convertToInteractive',\n",
              "                                                    [key], {});\n",
              "        if (!dataTable) return;\n",
              "\n",
              "        const docLinkHtml = 'Like what you see? Visit the ' +\n",
              "          '<a target=\"_blank\" href=https://colab.research.google.com/notebooks/data_table.ipynb>data table notebook</a>'\n",
              "          + ' to learn more about interactive tables.';\n",
              "        element.innerHTML = '';\n",
              "        dataTable['output_type'] = 'display_data';\n",
              "        await google.colab.output.renderOutput(dataTable, element);\n",
              "        const docLink = document.createElement('div');\n",
              "        docLink.innerHTML = docLinkHtml;\n",
              "        element.appendChild(docLink);\n",
              "      }\n",
              "    </script>\n",
              "  </div>\n",
              "\n",
              "\n",
              "    <div id=\"df-dbceb80e-3741-4ef3-a340-53c7ba4e6e7d\">\n",
              "      <button class=\"colab-df-quickchart\" onclick=\"quickchart('df-dbceb80e-3741-4ef3-a340-53c7ba4e6e7d')\"\n",
              "                title=\"Suggest charts\"\n",
              "                style=\"display:none;\">\n",
              "\n",
              "<svg xmlns=\"http://www.w3.org/2000/svg\" height=\"24px\"viewBox=\"0 0 24 24\"\n",
              "     width=\"24px\">\n",
              "    <g>\n",
              "        <path d=\"M19 3H5c-1.1 0-2 .9-2 2v14c0 1.1.9 2 2 2h14c1.1 0 2-.9 2-2V5c0-1.1-.9-2-2-2zM9 17H7v-7h2v7zm4 0h-2V7h2v10zm4 0h-2v-4h2v4z\"/>\n",
              "    </g>\n",
              "</svg>\n",
              "      </button>\n",
              "\n",
              "<style>\n",
              "  .colab-df-quickchart {\n",
              "      --bg-color: #E8F0FE;\n",
              "      --fill-color: #1967D2;\n",
              "      --hover-bg-color: #E2EBFA;\n",
              "      --hover-fill-color: #174EA6;\n",
              "      --disabled-fill-color: #AAA;\n",
              "      --disabled-bg-color: #DDD;\n",
              "  }\n",
              "\n",
              "  [theme=dark] .colab-df-quickchart {\n",
              "      --bg-color: #3B4455;\n",
              "      --fill-color: #D2E3FC;\n",
              "      --hover-bg-color: #434B5C;\n",
              "      --hover-fill-color: #FFFFFF;\n",
              "      --disabled-bg-color: #3B4455;\n",
              "      --disabled-fill-color: #666;\n",
              "  }\n",
              "\n",
              "  .colab-df-quickchart {\n",
              "    background-color: var(--bg-color);\n",
              "    border: none;\n",
              "    border-radius: 50%;\n",
              "    cursor: pointer;\n",
              "    display: none;\n",
              "    fill: var(--fill-color);\n",
              "    height: 32px;\n",
              "    padding: 0;\n",
              "    width: 32px;\n",
              "  }\n",
              "\n",
              "  .colab-df-quickchart:hover {\n",
              "    background-color: var(--hover-bg-color);\n",
              "    box-shadow: 0 1px 2px rgba(60, 64, 67, 0.3), 0 1px 3px 1px rgba(60, 64, 67, 0.15);\n",
              "    fill: var(--button-hover-fill-color);\n",
              "  }\n",
              "\n",
              "  .colab-df-quickchart-complete:disabled,\n",
              "  .colab-df-quickchart-complete:disabled:hover {\n",
              "    background-color: var(--disabled-bg-color);\n",
              "    fill: var(--disabled-fill-color);\n",
              "    box-shadow: none;\n",
              "  }\n",
              "\n",
              "  .colab-df-spinner {\n",
              "    border: 2px solid var(--fill-color);\n",
              "    border-color: transparent;\n",
              "    border-bottom-color: var(--fill-color);\n",
              "    animation:\n",
              "      spin 1s steps(1) infinite;\n",
              "  }\n",
              "\n",
              "  @keyframes spin {\n",
              "    0% {\n",
              "      border-color: transparent;\n",
              "      border-bottom-color: var(--fill-color);\n",
              "      border-left-color: var(--fill-color);\n",
              "    }\n",
              "    20% {\n",
              "      border-color: transparent;\n",
              "      border-left-color: var(--fill-color);\n",
              "      border-top-color: var(--fill-color);\n",
              "    }\n",
              "    30% {\n",
              "      border-color: transparent;\n",
              "      border-left-color: var(--fill-color);\n",
              "      border-top-color: var(--fill-color);\n",
              "      border-right-color: var(--fill-color);\n",
              "    }\n",
              "    40% {\n",
              "      border-color: transparent;\n",
              "      border-right-color: var(--fill-color);\n",
              "      border-top-color: var(--fill-color);\n",
              "    }\n",
              "    60% {\n",
              "      border-color: transparent;\n",
              "      border-right-color: var(--fill-color);\n",
              "    }\n",
              "    80% {\n",
              "      border-color: transparent;\n",
              "      border-right-color: var(--fill-color);\n",
              "      border-bottom-color: var(--fill-color);\n",
              "    }\n",
              "    90% {\n",
              "      border-color: transparent;\n",
              "      border-bottom-color: var(--fill-color);\n",
              "    }\n",
              "  }\n",
              "</style>\n",
              "\n",
              "      <script>\n",
              "        async function quickchart(key) {\n",
              "          const quickchartButtonEl =\n",
              "            document.querySelector('#' + key + ' button');\n",
              "          quickchartButtonEl.disabled = true;  // To prevent multiple clicks.\n",
              "          quickchartButtonEl.classList.add('colab-df-spinner');\n",
              "          try {\n",
              "            const charts = await google.colab.kernel.invokeFunction(\n",
              "                'suggestCharts', [key], {});\n",
              "          } catch (error) {\n",
              "            console.error('Error during call to suggestCharts:', error);\n",
              "          }\n",
              "          quickchartButtonEl.classList.remove('colab-df-spinner');\n",
              "          quickchartButtonEl.classList.add('colab-df-quickchart-complete');\n",
              "        }\n",
              "        (() => {\n",
              "          let quickchartButtonEl =\n",
              "            document.querySelector('#df-dbceb80e-3741-4ef3-a340-53c7ba4e6e7d button');\n",
              "          quickchartButtonEl.style.display =\n",
              "            google.colab.kernel.accessAllowed ? 'block' : 'none';\n",
              "        })();\n",
              "      </script>\n",
              "    </div>\n",
              "\n",
              "  <div id=\"id_3006c82a-7c8f-4d2d-b06b-6979ba604205\">\n",
              "    <style>\n",
              "      .colab-df-generate {\n",
              "        background-color: #E8F0FE;\n",
              "        border: none;\n",
              "        border-radius: 50%;\n",
              "        cursor: pointer;\n",
              "        display: none;\n",
              "        fill: #1967D2;\n",
              "        height: 32px;\n",
              "        padding: 0 0 0 0;\n",
              "        width: 32px;\n",
              "      }\n",
              "\n",
              "      .colab-df-generate:hover {\n",
              "        background-color: #E2EBFA;\n",
              "        box-shadow: 0px 1px 2px rgba(60, 64, 67, 0.3), 0px 1px 3px 1px rgba(60, 64, 67, 0.15);\n",
              "        fill: #174EA6;\n",
              "      }\n",
              "\n",
              "      [theme=dark] .colab-df-generate {\n",
              "        background-color: #3B4455;\n",
              "        fill: #D2E3FC;\n",
              "      }\n",
              "\n",
              "      [theme=dark] .colab-df-generate:hover {\n",
              "        background-color: #434B5C;\n",
              "        box-shadow: 0px 1px 3px 1px rgba(0, 0, 0, 0.15);\n",
              "        filter: drop-shadow(0px 1px 2px rgba(0, 0, 0, 0.3));\n",
              "        fill: #FFFFFF;\n",
              "      }\n",
              "    </style>\n",
              "    <button class=\"colab-df-generate\" onclick=\"generateWithVariable('results_df')\"\n",
              "            title=\"Generate code using this dataframe.\"\n",
              "            style=\"display:none;\">\n",
              "\n",
              "  <svg xmlns=\"http://www.w3.org/2000/svg\" height=\"24px\"viewBox=\"0 0 24 24\"\n",
              "       width=\"24px\">\n",
              "    <path d=\"M7,19H8.4L18.45,9,17,7.55,7,17.6ZM5,21V16.75L18.45,3.32a2,2,0,0,1,2.83,0l1.4,1.43a1.91,1.91,0,0,1,.58,1.4,1.91,1.91,0,0,1-.58,1.4L9.25,21ZM18.45,9,17,7.55Zm-12,3A5.31,5.31,0,0,0,4.9,8.1,5.31,5.31,0,0,0,1,6.5,5.31,5.31,0,0,0,4.9,4.9,5.31,5.31,0,0,0,6.5,1,5.31,5.31,0,0,0,8.1,4.9,5.31,5.31,0,0,0,12,6.5,5.46,5.46,0,0,0,6.5,12Z\"/>\n",
              "  </svg>\n",
              "    </button>\n",
              "    <script>\n",
              "      (() => {\n",
              "      const buttonEl =\n",
              "        document.querySelector('#id_3006c82a-7c8f-4d2d-b06b-6979ba604205 button.colab-df-generate');\n",
              "      buttonEl.style.display =\n",
              "        google.colab.kernel.accessAllowed ? 'block' : 'none';\n",
              "\n",
              "      buttonEl.onclick = () => {\n",
              "        google.colab.notebook.generateWithVariable('results_df');\n",
              "      }\n",
              "      })();\n",
              "    </script>\n",
              "  </div>\n",
              "\n",
              "    </div>\n",
              "  </div>\n"
            ],
            "application/vnd.google.colaboratory.intrinsic+json": {
              "type": "dataframe",
              "variable_name": "results_df",
              "summary": "{\n  \"name\": \"results_df\",\n  \"rows\": 4,\n  \"fields\": [\n    {\n      \"column\": \"Model\",\n      \"properties\": {\n        \"dtype\": \"string\",\n        \"num_unique_values\": 4,\n        \"samples\": [\n          \"KNN\",\n          \"SVM\",\n          \"Logistic Regression\"\n        ],\n        \"semantic_type\": \"\",\n        \"description\": \"\"\n      }\n    },\n    {\n      \"column\": \"Train Time(s)\",\n      \"properties\": {\n        \"dtype\": \"number\",\n        \"std\": 10.56309642513343,\n        \"min\": 0.0188,\n        \"max\": 21.2532,\n        \"num_unique_values\": 4,\n        \"samples\": [\n          0.0188,\n          21.2532,\n          0.1593\n        ],\n        \"semantic_type\": \"\",\n        \"description\": \"\"\n      }\n    },\n    {\n      \"column\": \"Train Accuracy\",\n      \"properties\": {\n        \"dtype\": \"number\",\n        \"std\": 0.1543590268389467,\n        \"min\": 0.5908,\n        \"max\": 0.9171,\n        \"num_unique_values\": 4,\n        \"samples\": [\n          0.8907,\n          0.8873,\n          0.5908\n        ],\n        \"semantic_type\": \"\",\n        \"description\": \"\"\n      }\n    },\n    {\n      \"column\": \"Test Accuracy\",\n      \"properties\": {\n        \"dtype\": \"number\",\n        \"std\": 0.14632778273451696,\n        \"min\": 0.5846,\n        \"max\": 0.8874,\n        \"num_unique_values\": 4,\n        \"samples\": [\n          0.8787,\n          0.8874,\n          0.5846\n        ],\n        \"semantic_type\": \"\",\n        \"description\": \"\"\n      }\n    }\n  ]\n}"
            }
          },
          "metadata": {},
          "execution_count": 20
        }
      ],
      "source": [
        "# initialize models\n",
        "models = {\n",
        "    'Logistic Regression': logr,\n",
        "    'KNN': KNeighborsClassifier(),\n",
        "    'Decision Tree': DecisionTreeClassifier(),\n",
        "    'SVM': SVC()\n",
        "}\n",
        "\n",
        "results = []\n",
        "\n",
        "# Train and evaluate each model\n",
        "for name, model in models.items():\n",
        "  start_time = time.time()\n",
        "  model.fit(X_train, y_train)\n",
        "  end_time = time.time()\n",
        "\n",
        "  train_time = round(end_time - start_time, 4)\n",
        "  train_accuracy = accuracy_score(y_train, model.predict(X_train))\n",
        "  test_accuracy = accuracy_score(y_test, model.predict(X_test))\n",
        "\n",
        "  results.append({\n",
        "      'Model': name,\n",
        "      'Train Time(s)': train_time,\n",
        "      'Train Accuracy': round(train_accuracy,4),\n",
        "      'Test Accuracy': round(test_accuracy,4)\n",
        "  })\n",
        "\n",
        "\n",
        "# Create DataFrame\n",
        "results_df = pd.DataFrame(results)\n",
        "results_df"
      ]
    },
    {
      "cell_type": "markdown",
      "source": [
        "- **SVM** had the best overall test performance, though it was the slowest to train\n",
        "- **KNN and Decision Trees** both performed well but may be **overfitting** based on the gap between training and test accuracy.\n",
        "- **Logistic Regression**, though fastest, struggled due to class imblance and linear limitations."
      ],
      "metadata": {
        "id": "Oq0Gd0L4Xg_s"
      }
    },
    {
      "cell_type": "markdown",
      "metadata": {
        "id": "eI4NOKPZXW8p"
      },
      "source": [
        "### Problem 11: Improving the Model\n",
        "\n",
        "Now that we have some basic models on the board, we want to try to improve these.  Below, we list a few things to explore in this pursuit.\n",
        "\n",
        "- More feature engineering and exploration.  For example, should we keep the gender feature?  Why or why not?\n",
        "- Hyperparameter tuning and grid search.  All of our models have additional hyperparameters to tune and explore.  For example the number of neighbors in KNN or the maximum depth of a Decision Tree.  \n",
        "- Adjust your performance metric"
      ]
    },
    {
      "cell_type": "code",
      "execution_count": 21,
      "metadata": {
        "id": "i61Ox2YvXW8p"
      },
      "outputs": [],
      "source": [
        "from sklearn.model_selection import GridSearchCV"
      ]
    },
    {
      "cell_type": "code",
      "execution_count": 22,
      "metadata": {
        "colab": {
          "base_uri": "https://localhost:8080/"
        },
        "id": "i4kiwX1TXW8p",
        "outputId": "bde42c3b-50b8-430b-a210-2ec1a42e9e5a"
      },
      "outputs": [
        {
          "output_type": "stream",
          "name": "stdout",
          "text": [
            "Best Parameters: {'n_neighbors': 3, 'weights': 'distance'}\n",
            "Best Score(F1): 0.16074401185416548\n"
          ]
        }
      ],
      "source": [
        "param_grid = {\n",
        "    'n_neighbors': [3, 5, 7],\n",
        "    'weights' : ['uniform', 'distance']\n",
        "}\n",
        "\n",
        "knn_grid = GridSearchCV(KNeighborsClassifier(),param_grid, cv=5, scoring='f1', n_jobs=-1)\n",
        "knn_grid.fit(X_train, y_train)\n",
        "\n",
        "print(\"Best Parameters:\", knn_grid.best_params_)\n",
        "print(\"Best Score(F1):\", knn_grid.best_score_)"
      ]
    },
    {
      "cell_type": "code",
      "execution_count": 24,
      "metadata": {
        "colab": {
          "base_uri": "https://localhost:8080/"
        },
        "id": "czmSC9NQXW8p",
        "outputId": "6abd7944-c5e1-4137-bc0e-9c1adb2b1764"
      },
      "outputs": [
        {
          "output_type": "stream",
          "name": "stdout",
          "text": [
            "Tuned KNN Classifier Performance on Test Set:\n",
            "\n",
            "Accuracy: 0.8594319009468318\n",
            "Confusion Matrix:\n",
            " [[6962  348]\n",
            " [ 810  118]]\n",
            "ROC-AUC: 0.5678375159205624\n",
            "\n",
            "Classification Report:\n",
            "               precision    recall  f1-score   support\n",
            "\n",
            "           0       0.90      0.95      0.92      7310\n",
            "           1       0.25      0.13      0.17       928\n",
            "\n",
            "    accuracy                           0.86      8238\n",
            "   macro avg       0.57      0.54      0.55      8238\n",
            "weighted avg       0.82      0.86      0.84      8238\n",
            "\n"
          ]
        }
      ],
      "source": [
        "# Best KNN from GridSearchCV\n",
        "best_knn = knn_grid.best_estimator_\n",
        "\n",
        "\n",
        "#Predict on test set\n",
        "y_pred_knn = best_knn.predict(X_test)\n",
        "y_probs_knn = best_knn.predict_proba(X_test)[:,1]\n",
        "\n",
        "#Evaluate\n",
        "print(\"Tuned KNN Classifier Performance on Test Set:\\n\")\n",
        "print(\"Accuracy:\", accuracy_score(y_test, y_pred_knn))\n",
        "print(\"Confusion Matrix:\\n\", confusion_matrix(y_test, y_pred_knn))\n",
        "print(\"ROC-AUC:\", roc_auc_score(y_test, y_probs_knn))\n",
        "print(\"\\nClassification Report:\\n\", classification_report(y_test, y_pred_knn))"
      ]
    },
    {
      "cell_type": "code",
      "execution_count": 28,
      "metadata": {
        "colab": {
          "base_uri": "https://localhost:8080/"
        },
        "id": "SW4WlJ76XW8q",
        "outputId": "c719e6fc-1cea-457a-9063-50de6e3c3dab"
      },
      "outputs": [
        {
          "output_type": "stream",
          "name": "stdout",
          "text": [
            "Best Parameters: {'criterion': 'gini', 'max_depth': 10, 'min_samples_split': 5}\n",
            "Best Score(F1): 0.2563373794564767\n"
          ]
        }
      ],
      "source": [
        "#Decision Tree Tuning\n",
        "param_grid_dt = {\n",
        "    'max_depth': [5, 10, 15, None],\n",
        "    'min_samples_split': [2, 5, 10],\n",
        "    'criterion': ['gini', 'entropy']\n",
        "}\n",
        "\n",
        "grid_dt = GridSearchCV(\n",
        "    DecisionTreeClassifier(class_weight='balanced', random_state=42),\n",
        "    param_grid_dt,\n",
        "    cv=5,\n",
        "    scoring='f1',\n",
        "    n_jobs=-1)\n",
        "\n",
        "grid_dt.fit(X_train, y_train)\n",
        "\n",
        "print(\"Best Parameters:\", grid_dt.best_params_)\n",
        "print(\"Best Score(F1):\", grid_dt.best_score_)"
      ]
    },
    {
      "cell_type": "code",
      "execution_count": 29,
      "metadata": {
        "colab": {
          "base_uri": "https://localhost:8080/"
        },
        "id": "fqbraun_XW8x",
        "outputId": "d1f49019-f3be-405e-e1d6-68271a4e6aa0"
      },
      "outputs": [
        {
          "output_type": "stream",
          "name": "stdout",
          "text": [
            "Tuned Decision Tree Classifier Performance on Test Set:\n",
            "\n",
            "Accuracy: 0.6479728089342073\n",
            "Confusion Matrix:\n",
            " [[4841 2469]\n",
            " [ 431  497]]\n",
            "ROC-AUC: 0.6381110989905184\n",
            "\n",
            "Classification Report:\n",
            "               precision    recall  f1-score   support\n",
            "\n",
            "           0       0.92      0.66      0.77      7310\n",
            "           1       0.17      0.54      0.26       928\n",
            "\n",
            "    accuracy                           0.65      8238\n",
            "   macro avg       0.54      0.60      0.51      8238\n",
            "weighted avg       0.83      0.65      0.71      8238\n",
            "\n"
          ]
        }
      ],
      "source": [
        "#Evaluate Decision Tree on Test Set\n",
        "\n",
        "#get the best model\n",
        "best_dt = grid_dt.best_estimator_\n",
        "\n",
        "#predict\n",
        "y_pred_dt = best_dt.predict(X_test)\n",
        "y_probs_dt = best_dt.predict_proba(X_test)[:,1]\n",
        "\n",
        "#Evaluate\n",
        "print(\"Tuned Decision Tree Classifier Performance on Test Set:\\n\")\n",
        "print(\"Accuracy:\", accuracy_score(y_test, y_pred_dt))\n",
        "print(\"Confusion Matrix:\\n\", confusion_matrix(y_test, y_pred_dt))\n",
        "print(\"ROC-AUC:\", roc_auc_score(y_test, y_probs_dt))\n",
        "print(\"\\nClassification Report:\\n\", classification_report(y_test, y_pred_dt))"
      ]
    },
    {
      "cell_type": "code",
      "execution_count": 27,
      "metadata": {
        "colab": {
          "base_uri": "https://localhost:8080/"
        },
        "id": "JMYdQwBlXW8x",
        "outputId": "d69815e8-aa86-46de-a443-3745e2c2c329"
      },
      "outputs": [
        {
          "output_type": "stream",
          "name": "stdout",
          "text": [
            "Linear SVM Classifier Performance on Test Set:\n",
            "\n",
            "Accuracy: 0.6069434328720563\n",
            "Confusion Matrix:\n",
            " [[4458 2852]\n",
            " [ 386  542]]\n",
            "\n",
            "Classification Report:\n",
            "               precision    recall  f1-score   support\n",
            "\n",
            "           0       0.92      0.61      0.73      7310\n",
            "           1       0.16      0.58      0.25       928\n",
            "\n",
            "    accuracy                           0.61      8238\n",
            "   macro avg       0.54      0.60      0.49      8238\n",
            "weighted avg       0.83      0.61      0.68      8238\n",
            "\n"
          ]
        }
      ],
      "source": [
        "#Linear SVM with Class Weighting\n",
        "\n",
        "svm_linear = SVC(kernel='linear', class_weight='balanced', probability=False, random_state=42)\n",
        "\n",
        "svm_linear.fit(X_train, y_train)\n",
        "\n",
        "y_pred_svm_linear = svm_linear.predict(X_test)\n",
        "\n",
        "print(\"Linear SVM Classifier Performance on Test Set:\\n\")\n",
        "print(\"Accuracy:\", accuracy_score(y_test, y_pred_svm_linear))\n",
        "print(\"Confusion Matrix:\\n\", confusion_matrix(y_test, y_pred_svm_linear))\n",
        "print(\"\\nClassification Report:\\n\", classification_report(y_test, y_pred_svm_linear))"
      ]
    },
    {
      "cell_type": "markdown",
      "source": [
        "**Final Model Comparison - Focus on Class 1 Recall**\n",
        "\n",
        "| Model                          | Accuracy | Recall (1) | Precision (1) | F1-score (1) | ROC-AUC |\n",
        "|-------------------------------|----------|------------|----------------|--------------|----------|\n",
        "| Logistic Regression (balanced)| 0.5846   | 0.62       | 0.16           | 0.25         | 0.65     |\n",
        "| Linear SVM (balanced)         | 0.6069   | 0.58       | 0.16           | 0.25         | N/A      |\n",
        "| KNN (tuned)                   | 0.8594   | 0.13       | 0.25           | 0.17         | 0.5678   |\n",
        "| Decision Tree (tuned, balanced)| 0.6480  | 0.54       | 0.17           | **0.26**     | 0.6381   |\n",
        "\n",
        "**Recommendation**:\n",
        "- For this imbalanced classification task, the **tuned Decision Tree with `class_weight='balanced'`** provided the best overall performance:\n",
        "\n",
        "  - It achieved the **highest F1-score (0.26)** for the minority class (`yes`) while maintaining strong recall (0.54).\n",
        "  - It is also **fast to train**, **interpretable**, and suitable for production deployment in a business setting.\n",
        "\n",
        "- While **Logistic Regression** and **Linear SVM** with class weighting also performed well, especially in terms of recall, the Decision Tree **offered a better balance between precision and recall**, making it the most effective model for identifying potential term deposit subscribers.\n",
        "\n",
        "- Other models like **KNN**, despite high overall accuracy, underperformed on recall and F1-score for the minority class, making them less suitable for this specific business goal."
      ],
      "metadata": {
        "id": "gu5y9ZMz8G1i"
      }
    },
    {
      "cell_type": "markdown",
      "source": [
        "#### Final Summary\n",
        "\n",
        "- In this assignment, four classification models were explored to predict whether a client would subscribe to a term deposit, using data from a Portuguese bank's marketing campaigns.\n",
        "- Given the imbalanced nature of the dataset (~88% \"no\", ~12% \"yes\"), the evaluation went beyond accuracy and focused on metrics like **recall**, **F1-score**, and **ROC-AUC**, especially for the minority class (\"yes\").\n",
        "\n",
        "#### Models Evaluated:\n",
        "- **Logistic Regression (class_weight='balanced')**\n",
        "- **K-Nearest Neighbors (KNN)**\n",
        "- **Decision Tree (tuned with class_weight='balanced')**\n",
        "- **Support Vector Machine (Linear SVM, class_weight='balanced')**\n",
        "\n",
        "#### Key Findings:\n",
        "- After hyperparameter tuning and class weighting, the **Decision Tree** outperformed all other models in terms of **F1-score for the minority class**, making it the most effective at balancing precision and recall.\n",
        "- **Logistic Regression** and **Linear SVM** also performed well, particularly in recall, and remain strong alternatives due to their simplicity and speed.\n",
        "- **KNN**, while achieving high overall accuracy, failed to detect a meaningful number of true positives.\n",
        "- Feature imbalance, categorical encoding, and threshold sensitivity significantly affected performance across models.\n",
        "\n",
        "#### Recommendation:\n",
        "- Use the **tuned Decision Tree with class_weight='balanced'** for production deployment. It achieved the best balance between recall and precision for identifying likely term deposit subscribers and offers clear interpretability for business stakeholders.\n",
        "- **Logistic Regression** and **Linear SVM** are recommended as fast, reliable backups when model simplicity or inference speed is prioritized."
      ],
      "metadata": {
        "id": "qzC3hSb_8pX4"
      }
    },
    {
      "cell_type": "markdown",
      "metadata": {
        "id": "1I9VV91QXW8x"
      },
      "source": [
        "##### Questions"
      ]
    }
  ],
  "metadata": {
    "kernelspec": {
      "display_name": "Python 3",
      "language": "python",
      "name": "python3"
    },
    "language_info": {
      "codemirror_mode": {
        "name": "ipython",
        "version": 3
      },
      "file_extension": ".py",
      "mimetype": "text/x-python",
      "name": "python",
      "nbconvert_exporter": "python",
      "pygments_lexer": "ipython3",
      "version": "3.8.8"
    },
    "colab": {
      "provenance": [],
      "collapsed_sections": [
        "3YFzrO9i3s2g"
      ]
    }
  },
  "nbformat": 4,
  "nbformat_minor": 0
}